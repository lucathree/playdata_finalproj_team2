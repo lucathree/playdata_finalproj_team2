{
 "cells": [
  {
   "cell_type": "code",
   "execution_count": 5,
   "metadata": {},
   "outputs": [],
   "source": [
    "import os\n",
    "import glob"
   ]
  },
  {
   "cell_type": "code",
   "execution_count": 14,
   "metadata": {},
   "outputs": [
    {
     "data": {
      "text/plain": [
       "['[label]c_1280_720_daylight_train_3.zip',\n",
       " '[원천]c_1280_720_daylight_train_7.tar',\n",
       " '[원천]c_1280_720_daylight_train_3.tar',\n",
       " '[label]c_1280_720_daylight_train_1.zip',\n",
       " '[label]c_1280_720_daylight_train_2.zip',\n",
       " '[라벨]c_1280_720_daylight_train_5.zip',\n",
       " '[원천]c_1280_720_night_train_1.tar',\n",
       " '[라벨]c_1280_720_night_train_3.tar',\n",
       " '[라벨]c_1280_720_daylight_train_7.zip',\n",
       " '[라벨]c_1280_720_night_train_1.tar',\n",
       " '[라벨]c_1280_720_daylight_train_8.zip',\n",
       " '[label]c_1280_720_daylight_train_4.zip',\n",
       " '[원천]c_1280_720_night_train_3.tar',\n",
       " '[원천]c_1280_720_daylight_train_2.tar',\n",
       " '[라벨]c_1280_720_night_train_4.tar',\n",
       " '[원천]c_1280_720_night_train_2.tar',\n",
       " '[원천]c_1280_720_daylight_train_8.tar',\n",
       " '[라벨]c_1280_720_night_train_2.tar',\n",
       " '[원천]c_1280_720_night_train_4.tar',\n",
       " '[원천]c_1280_720_daylight_train_4.tar',\n",
       " '[라벨]c_1280_720_daylight_train_6.zip',\n",
       " '[원천]c_1280_720_daylight_train_5.tar',\n",
       " '[원천]c_1280_720_daylight_train_6.tar',\n",
       " '[원천]c_1280_720_daylight_train_1.tar']"
      ]
     },
     "execution_count": 14,
     "metadata": {},
     "output_type": "execute_result"
    }
   ],
   "source": [
    "file_path = '/home/ubuntu/aiml/data/traffic_lane/Training'\n",
    "file_names = os.listdir(file_path )\n",
    "file_names\n"
   ]
  },
  {
   "cell_type": "code",
   "execution_count": 23,
   "metadata": {},
   "outputs": [
    {
     "data": {
      "text/plain": [
       "['/home/ubuntu/aiml/data/traffic_lane/Training/[label]c_1280_720_daylight_train_3.zip',\n",
       " '/home/ubuntu/aiml/data/traffic_lane/Training/[원천]c_1280_720_daylight_train_7.tar',\n",
       " '/home/ubuntu/aiml/data/traffic_lane/Training/[원천]c_1280_720_daylight_train_3.tar',\n",
       " '/home/ubuntu/aiml/data/traffic_lane/Training/[label]c_1280_720_daylight_train_1.zip',\n",
       " '/home/ubuntu/aiml/data/traffic_lane/Training/[label]c_1280_720_daylight_train_2.zip',\n",
       " '/home/ubuntu/aiml/data/traffic_lane/Training/[라벨]c_1280_720_daylight_train_5.zip',\n",
       " '/home/ubuntu/aiml/data/traffic_lane/Training/[원천]c_1280_720_night_train_1.tar',\n",
       " '/home/ubuntu/aiml/data/traffic_lane/Training/[라벨]c_1280_720_night_train_3.tar',\n",
       " '/home/ubuntu/aiml/data/traffic_lane/Training/[라벨]c_1280_720_daylight_train_7.zip',\n",
       " '/home/ubuntu/aiml/data/traffic_lane/Training/[라벨]c_1280_720_night_train_1.tar',\n",
       " '/home/ubuntu/aiml/data/traffic_lane/Training/[라벨]c_1280_720_daylight_train_8.zip',\n",
       " '/home/ubuntu/aiml/data/traffic_lane/Training/[label]c_1280_720_daylight_train_4.zip',\n",
       " '/home/ubuntu/aiml/data/traffic_lane/Training/[원천]c_1280_720_night_train_3.tar',\n",
       " '/home/ubuntu/aiml/data/traffic_lane/Training/[원천]c_1280_720_daylight_train_2.tar',\n",
       " '/home/ubuntu/aiml/data/traffic_lane/Training/[라벨]c_1280_720_night_train_4.tar',\n",
       " '/home/ubuntu/aiml/data/traffic_lane/Training/[원천]c_1280_720_night_train_2.tar',\n",
       " '/home/ubuntu/aiml/data/traffic_lane/Training/[원천]c_1280_720_daylight_train_8.tar',\n",
       " '/home/ubuntu/aiml/data/traffic_lane/Training/[라벨]c_1280_720_night_train_2.tar',\n",
       " '/home/ubuntu/aiml/data/traffic_lane/Training/[원천]c_1280_720_night_train_4.tar',\n",
       " '/home/ubuntu/aiml/data/traffic_lane/Training/[원천]c_1280_720_daylight_train_4.tar',\n",
       " '/home/ubuntu/aiml/data/traffic_lane/Training/[라벨]c_1280_720_daylight_train_6.zip',\n",
       " '/home/ubuntu/aiml/data/traffic_lane/Training/[원천]c_1280_720_daylight_train_5.tar',\n",
       " '/home/ubuntu/aiml/data/traffic_lane/Training/[원천]c_1280_720_daylight_train_6.tar',\n",
       " '/home/ubuntu/aiml/data/traffic_lane/Training/[원천]c_1280_720_daylight_train_1.tar']"
      ]
     },
     "execution_count": 23,
     "metadata": {},
     "output_type": "execute_result"
    }
   ],
   "source": [
    "names = glob.glob(file_path + '/*')\n",
    "names"
   ]
  },
  {
   "cell_type": "code",
   "execution_count": null,
   "metadata": {},
   "outputs": [],
   "source": []
  }
 ],
 "metadata": {
  "interpreter": {
   "hash": "9267ec8b25e6f6f7c0fd3b6911bb537b7e6fa8f186602fb091de40851fd57d2d"
  },
  "kernelspec": {
   "display_name": "Python 3.7.12 64-bit ('team2': conda)",
   "language": "python",
   "name": "python3"
  },
  "language_info": {
   "name": "python",
   "version": "3.7.12"
  },
  "orig_nbformat": 4
 },
 "nbformat": 4,
 "nbformat_minor": 2
}
