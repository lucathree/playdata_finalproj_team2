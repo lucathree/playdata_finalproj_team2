{
 "cells": [
  {
   "cell_type": "code",
   "execution_count": 4,
   "metadata": {},
   "outputs": [],
   "source": [
    "import os, shutil, tarfile, zipfile"
   ]
  },
  {
   "cell_type": "code",
   "execution_count": 1,
   "metadata": {},
   "outputs": [],
   "source": [
    "#압축파일 선택\n",
    "n = '1'\n",
    "\n",
    "tar_file = '/home/ubuntu/aiml/data/traffic_lane/Training/c_1280_720_daylight_train_'+ n +'/[원천]c_1280_720_daylight_train_' + n +'.tar'\n",
    "#           /home/ubuntu/aiml/data/traffic_lane/Training/c_1280_720_daylight_train_1/[원천]c_1280_720_daylight_train_1.tar\n",
    "zip_file = '/home/ubuntu/aiml/data/traffic_lane/Training/c_1280_720_daylight_train_'+ n +'/[라벨]c_1280_720_daylight_train_' + n +'.zip'\n",
    "\n",
    "image_folder = '/home/ubuntu/aiml/data/traffic_lane/Training/c_1280_720_daylight_train_' + n + '/image'\n",
    "jason_folder = '/home/ubuntu/aiml/data/traffic_lane/Training/c_1280_720_daylight_train_' + n + '/json'"
   ]
  },
  {
   "cell_type": "code",
   "execution_count": 2,
   "metadata": {},
   "outputs": [],
   "source": [
    "#압축해제할 폴더 생성\n",
    "if not os.path.exists(image_folder):\n",
    "    os.mkdir(image_folder)\n",
    "    \n",
    "if not os.path.exists(jason_folder):\n",
    "    os.mkdir(jason_folder)"
   ]
  },
  {
   "cell_type": "code",
   "execution_count": 5,
   "metadata": {},
   "outputs": [],
   "source": [
    "# .tar 압축해제 = 이미지\n",
    "\n",
    "#파일 오픈\n",
    "tar = tarfile.open(tar_file)\n",
    "\n",
    "tar.extractall(image_folder) # 모든파일 해제인듯\n",
    "\n",
    "tar.close() "
   ]
  },
  {
   "cell_type": "code",
   "execution_count": 15,
   "metadata": {},
   "outputs": [],
   "source": [
    "# .zip 압축해제 = json\n",
    "zip = zipfile.ZipFile(zip_file)\n",
    "zip.extractall(jason_folder)\n",
    "zip.close()"
   ]
  },
  {
   "cell_type": "code",
   "execution_count": null,
   "metadata": {},
   "outputs": [],
   "source": []
  }
 ],
 "metadata": {
  "interpreter": {
   "hash": "31f2aee4e71d21fbe5cf8b01ff0e069b9275f58929596ceb00d14d90e3e16cd6"
  },
  "kernelspec": {
   "display_name": "Python 3.6.9 64-bit",
   "language": "python",
   "name": "python3"
  },
  "language_info": {
   "codemirror_mode": {
    "name": "ipython",
    "version": 3
   },
   "file_extension": ".py",
   "mimetype": "text/x-python",
   "name": "python",
   "nbconvert_exporter": "python",
   "pygments_lexer": "ipython3",
   "version": "3.7.12"
  },
  "orig_nbformat": 4
 },
 "nbformat": 4,
 "nbformat_minor": 2
}
