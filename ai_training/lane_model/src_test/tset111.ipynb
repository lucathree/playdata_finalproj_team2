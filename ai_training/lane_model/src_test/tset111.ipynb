{
 "cells": [
  {
   "cell_type": "code",
   "execution_count": 22,
   "metadata": {},
   "outputs": [],
   "source": [
    "import argparse"
   ]
  },
  {
   "cell_type": "code",
   "execution_count": 23,
   "metadata": {},
   "outputs": [
    {
     "name": "stderr",
     "output_type": "stream",
     "text": [
      "usage: ipykernel_launcher.py [-h] [--epoch EPOCH] [--batch_size BATCH_SIZE]\n",
      "                             [--lr_initial LR_INITIAL]\n",
      "ipykernel_launcher.py: error: unrecognized arguments: --ip=127.0.0.1 --stdin=9003 --control=9001 --hb=9000 --Session.signature_scheme=\"hmac-sha256\" --Session.key=b\"83bd1481-1474-4ea0-bf60-7ce5a8ab0ab1\" --shell=9002 --transport=\"tcp\" --iopub=9004 --f=/tmp/tmp-314050qylliqqiv1.json\n"
     ]
    },
    {
     "ename": "SystemExit",
     "evalue": "2",
     "output_type": "error",
     "traceback": [
      "An exception has occurred, use %tb to see the full traceback.\n",
      "\u001b[0;31mSystemExit\u001b[0m\u001b[0;31m:\u001b[0m 2\n"
     ]
    }
   ],
   "source": [
    "# 인자값을 받을 수 있는 인스턴스 생성\n",
    "parser = argparse.ArgumentParser(description='Argparse Tutorial')\n",
    "\n",
    "# 입력받을 인자값 설정 (default 값 설정가능)\n",
    "parser.add_argument('--epoch',          type=int,   default=3)\n",
    "parser.add_argument('--batch_size',     type=int,   default=6)\n",
    "parser.add_argument('--lr_initial',     type=float, default=0.1)\n",
    "\n",
    "# args 에 위의 내용 저장\n",
    "args    = parser.parse_args()\n",
    "\n",
    "# 입력받은 인자값 출력\n",
    "print(args.epoch)\n",
    "print(args.batch_size)\n",
    "print(args.lr_initial)"
   ]
  },
  {
   "cell_type": "code",
   "execution_count": null,
   "metadata": {},
   "outputs": [],
   "source": []
  }
 ],
 "metadata": {
  "interpreter": {
   "hash": "9267ec8b25e6f6f7c0fd3b6911bb537b7e6fa8f186602fb091de40851fd57d2d"
  },
  "kernelspec": {
   "display_name": "Python 3.7.12 64-bit ('team2': conda)",
   "language": "python",
   "name": "python3"
  },
  "language_info": {
   "codemirror_mode": {
    "name": "ipython",
    "version": 3
   },
   "file_extension": ".py",
   "mimetype": "text/x-python",
   "name": "python",
   "nbconvert_exporter": "python",
   "pygments_lexer": "ipython3",
   "version": "3.7.12"
  },
  "orig_nbformat": 4
 },
 "nbformat": 4,
 "nbformat_minor": 2
}
